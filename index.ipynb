{
  "cells": [
    {
      "cell_type": "raw",
      "metadata": {},
      "source": [
        "---\n",
        "title: \"posit::conf(2024)\"\n",
        "---"
      ],
      "id": "5a5b0742"
    },
    {
      "cell_type": "markdown",
      "metadata": {},
      "source": [
        "![](images/posit_conf_2024.jfif)\n",
        "\n",
        "<br>\n",
        "\n",
        "[:arrow_forward: Session Videos](https://www.youtube.com/@PositPBC) **Will Become Available October/November 2024**\n",
        "\n",
        "<br>\n",
        "\n",
        "\n",
        "```{scss}\n",
        "$russet90: #874E19;\n",
        "\n",
        "div {\n",
        "  &.callout-warning {\n",
        "    border-left-color: #A42B28 !important;\n",
        "  }\n",
        "}\n",
        "```\n",
        "\n",
        "\n",
        "\n",
        ":::{.callout-warning}\n",
        "A warning\n",
        ":::"
      ],
      "id": "1a3fcd31"
    }
  ],
  "metadata": {
    "kernelspec": {
      "display_name": "Python 3",
      "language": "python",
      "name": "python3"
    }
  },
  "nbformat": 4,
  "nbformat_minor": 5
}